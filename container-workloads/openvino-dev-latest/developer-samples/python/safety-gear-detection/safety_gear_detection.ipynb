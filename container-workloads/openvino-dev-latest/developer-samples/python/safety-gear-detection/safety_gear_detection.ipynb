version https://git-lfs.github.com/spec/v1
oid sha256:d36d131c690b9e55f439a02c67fe3269d265e676740f3e37338577e5ba7ae15d
size 54857
