version https://git-lfs.github.com/spec/v1
oid sha256:e8c998b3664c597ba298d3f0b627f9a4029247bef3e4089d598ecb4a03dadc02
size 53791
